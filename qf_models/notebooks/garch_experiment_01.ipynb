{
 "cells": [
  {
   "cell_type": "markdown",
   "id": "7aad7064",
   "metadata": {},
   "source": [
    "# Garch model experiment 01"
   ]
  },
  {
   "cell_type": "code",
   "execution_count": 2,
   "id": "54617e7e",
   "metadata": {},
   "outputs": [],
   "source": [
    "import os\n",
    "import sys\n",
    "\n",
    "import pandas as pd\n",
    "import numpy as np\n",
    "import seaborn as sns\n",
    "import matplotlib.pyplot as plt\n",
    "\n",
    "from arch import arch_model\n",
    "from tqdm import tqdm\n",
    "\n",
    "sns.set_style(\"darkgrid\")\n",
    "plt.rc(\"figure\", figsize=(16, 8))\n",
    "plt.rc(\"font\", size=13)"
   ]
  },
  {
   "cell_type": "code",
   "execution_count": 3,
   "id": "3d654aa6",
   "metadata": {},
   "outputs": [],
   "source": [
    "TICKER = \"BTC-USD\"\n",
    "DATA_DIR = \"data_hourly\"\n",
    "FILE_PATH = os.path.join(\"..\", \"data\", f\"{DATA_DIR}\", f\"{TICKER}_hourly.csv\")"
   ]
  },
  {
   "cell_type": "code",
   "execution_count": 11,
   "id": "19198b02",
   "metadata": {},
   "outputs": [
    {
     "name": "stdout",
     "output_type": "stream",
     "text": [
      "Данные для BTC-USD успешно загружены.\n"
     ]
    }
   ],
   "source": [
    "try:\n",
    "    df_raw = pd.read_csv(\n",
    "        FILE_PATH,\n",
    "        header=0,           \n",
    "        skiprows=[1, 2],           \n",
    "        parse_dates=True    \n",
    "    )\n",
    "    print(f\"Данные для {TICKER} успешно загружены.\")\n",
    "except FileNotFoundError:\n",
    "    print(f\"Ошибка: Файл не найден по пути {FILE_PATH}. Убедитесь, что вы запустили скрипт скачивания.\")\n",
    "    exit()"
   ]
  },
  {
   "cell_type": "code",
   "execution_count": 12,
   "id": "d4be35ee",
   "metadata": {},
   "outputs": [],
   "source": [
    "df = df_raw.rename(columns={'Price': 'Datetime'})\n",
    "\n",
    "df['Datetime'] = pd.to_datetime(df['Datetime'])\n",
    "\n",
    "df.set_index('Datetime', inplace=True)"
   ]
  },
  {
   "cell_type": "code",
   "execution_count": 14,
   "id": "f2b274c0",
   "metadata": {},
   "outputs": [
    {
     "name": "stdout",
     "output_type": "stream",
     "text": [
      "(17492, 5)\n"
     ]
    },
    {
     "data": {
      "text/html": [
       "<div>\n",
       "<style scoped>\n",
       "    .dataframe tbody tr th:only-of-type {\n",
       "        vertical-align: middle;\n",
       "    }\n",
       "\n",
       "    .dataframe tbody tr th {\n",
       "        vertical-align: top;\n",
       "    }\n",
       "\n",
       "    .dataframe thead th {\n",
       "        text-align: right;\n",
       "    }\n",
       "</style>\n",
       "<table border=\"1\" class=\"dataframe\">\n",
       "  <thead>\n",
       "    <tr style=\"text-align: right;\">\n",
       "      <th></th>\n",
       "      <th>Close</th>\n",
       "      <th>High</th>\n",
       "      <th>Low</th>\n",
       "      <th>Open</th>\n",
       "      <th>Volume</th>\n",
       "    </tr>\n",
       "    <tr>\n",
       "      <th>Datetime</th>\n",
       "      <th></th>\n",
       "      <th></th>\n",
       "      <th></th>\n",
       "      <th></th>\n",
       "      <th></th>\n",
       "    </tr>\n",
       "  </thead>\n",
       "  <tbody>\n",
       "    <tr>\n",
       "      <th>2023-09-17 21:00:00+00:00</th>\n",
       "      <td>26487.957031</td>\n",
       "      <td>26500.771484</td>\n",
       "      <td>26420.402344</td>\n",
       "      <td>26443.996094</td>\n",
       "      <td>0</td>\n",
       "    </tr>\n",
       "    <tr>\n",
       "      <th>2023-09-17 22:00:00+00:00</th>\n",
       "      <td>26467.375000</td>\n",
       "      <td>26491.326172</td>\n",
       "      <td>26450.060547</td>\n",
       "      <td>26491.326172</td>\n",
       "      <td>44983296</td>\n",
       "    </tr>\n",
       "    <tr>\n",
       "      <th>2023-09-17 23:00:00+00:00</th>\n",
       "      <td>26536.810547</td>\n",
       "      <td>26536.810547</td>\n",
       "      <td>26454.970703</td>\n",
       "      <td>26490.833984</td>\n",
       "      <td>71581184</td>\n",
       "    </tr>\n",
       "    <tr>\n",
       "      <th>2023-09-18 00:00:00+00:00</th>\n",
       "      <td>26478.710938</td>\n",
       "      <td>26555.085938</td>\n",
       "      <td>26415.515625</td>\n",
       "      <td>26532.994141</td>\n",
       "      <td>167976448</td>\n",
       "    </tr>\n",
       "    <tr>\n",
       "      <th>2023-09-18 01:00:00+00:00</th>\n",
       "      <td>26471.654297</td>\n",
       "      <td>26488.355469</td>\n",
       "      <td>26455.878906</td>\n",
       "      <td>26474.019531</td>\n",
       "      <td>0</td>\n",
       "    </tr>\n",
       "  </tbody>\n",
       "</table>\n",
       "</div>"
      ],
      "text/plain": [
       "                                  Close          High           Low  \\\n",
       "Datetime                                                              \n",
       "2023-09-17 21:00:00+00:00  26487.957031  26500.771484  26420.402344   \n",
       "2023-09-17 22:00:00+00:00  26467.375000  26491.326172  26450.060547   \n",
       "2023-09-17 23:00:00+00:00  26536.810547  26536.810547  26454.970703   \n",
       "2023-09-18 00:00:00+00:00  26478.710938  26555.085938  26415.515625   \n",
       "2023-09-18 01:00:00+00:00  26471.654297  26488.355469  26455.878906   \n",
       "\n",
       "                                   Open     Volume  \n",
       "Datetime                                            \n",
       "2023-09-17 21:00:00+00:00  26443.996094          0  \n",
       "2023-09-17 22:00:00+00:00  26491.326172   44983296  \n",
       "2023-09-17 23:00:00+00:00  26490.833984   71581184  \n",
       "2023-09-18 00:00:00+00:00  26532.994141  167976448  \n",
       "2023-09-18 01:00:00+00:00  26474.019531          0  "
      ]
     },
     "execution_count": 14,
     "metadata": {},
     "output_type": "execute_result"
    }
   ],
   "source": [
    "print(df.shape)\n",
    "df.head()"
   ]
  },
  {
   "cell_type": "code",
   "execution_count": 15,
   "id": "0d306508",
   "metadata": {},
   "outputs": [
    {
     "name": "stdout",
     "output_type": "stream",
     "text": [
      "<class 'pandas.core.frame.DataFrame'>\n",
      "DatetimeIndex: 17492 entries, 2023-09-17 21:00:00+00:00 to 2025-09-15 18:00:00+00:00\n",
      "Data columns (total 5 columns):\n",
      " #   Column  Non-Null Count  Dtype  \n",
      "---  ------  --------------  -----  \n",
      " 0   Close   17492 non-null  float64\n",
      " 1   High    17492 non-null  float64\n",
      " 2   Low     17492 non-null  float64\n",
      " 3   Open    17492 non-null  float64\n",
      " 4   Volume  17492 non-null  int64  \n",
      "dtypes: float64(4), int64(1)\n",
      "memory usage: 819.9 KB\n"
     ]
    }
   ],
   "source": [
    "df.info()"
   ]
  },
  {
   "cell_type": "code",
   "execution_count": 16,
   "id": "9761950e",
   "metadata": {},
   "outputs": [
    {
     "data": {
      "text/html": [
       "<div>\n",
       "<style scoped>\n",
       "    .dataframe tbody tr th:only-of-type {\n",
       "        vertical-align: middle;\n",
       "    }\n",
       "\n",
       "    .dataframe tbody tr th {\n",
       "        vertical-align: top;\n",
       "    }\n",
       "\n",
       "    .dataframe thead th {\n",
       "        text-align: right;\n",
       "    }\n",
       "</style>\n",
       "<table border=\"1\" class=\"dataframe\">\n",
       "  <thead>\n",
       "    <tr style=\"text-align: right;\">\n",
       "      <th></th>\n",
       "      <th>count</th>\n",
       "      <th>mean</th>\n",
       "      <th>std</th>\n",
       "      <th>min</th>\n",
       "      <th>25%</th>\n",
       "      <th>50%</th>\n",
       "      <th>75%</th>\n",
       "      <th>max</th>\n",
       "    </tr>\n",
       "  </thead>\n",
       "  <tbody>\n",
       "    <tr>\n",
       "      <th>Close</th>\n",
       "      <td>17492.0</td>\n",
       "      <td>7.404251e+04</td>\n",
       "      <td>2.609701e+04</td>\n",
       "      <td>26063.386719</td>\n",
       "      <td>57715.159180</td>\n",
       "      <td>68160.718750</td>\n",
       "      <td>9.730265e+04</td>\n",
       "      <td>1.238109e+05</td>\n",
       "    </tr>\n",
       "    <tr>\n",
       "      <th>High</th>\n",
       "      <td>17492.0</td>\n",
       "      <td>7.425237e+04</td>\n",
       "      <td>2.615442e+04</td>\n",
       "      <td>26102.777344</td>\n",
       "      <td>57951.115234</td>\n",
       "      <td>68365.589844</td>\n",
       "      <td>9.755880e+04</td>\n",
       "      <td>1.243223e+05</td>\n",
       "    </tr>\n",
       "    <tr>\n",
       "      <th>Low</th>\n",
       "      <td>17492.0</td>\n",
       "      <td>7.382119e+04</td>\n",
       "      <td>2.603935e+04</td>\n",
       "      <td>26011.468750</td>\n",
       "      <td>57517.906250</td>\n",
       "      <td>67933.402344</td>\n",
       "      <td>9.700106e+04</td>\n",
       "      <td>1.234140e+05</td>\n",
       "    </tr>\n",
       "    <tr>\n",
       "      <th>Open</th>\n",
       "      <td>17492.0</td>\n",
       "      <td>7.403691e+04</td>\n",
       "      <td>2.609704e+04</td>\n",
       "      <td>26059.931641</td>\n",
       "      <td>57714.226562</td>\n",
       "      <td>68167.683594</td>\n",
       "      <td>9.729354e+04</td>\n",
       "      <td>1.238693e+05</td>\n",
       "    </tr>\n",
       "    <tr>\n",
       "      <th>Volume</th>\n",
       "      <td>17492.0</td>\n",
       "      <td>4.355266e+08</td>\n",
       "      <td>1.127467e+09</td>\n",
       "      <td>0.000000</td>\n",
       "      <td>0.000000</td>\n",
       "      <td>0.000000</td>\n",
       "      <td>4.715523e+08</td>\n",
       "      <td>3.461036e+10</td>\n",
       "    </tr>\n",
       "  </tbody>\n",
       "</table>\n",
       "</div>"
      ],
      "text/plain": [
       "          count          mean           std           min           25%  \\\n",
       "Close   17492.0  7.404251e+04  2.609701e+04  26063.386719  57715.159180   \n",
       "High    17492.0  7.425237e+04  2.615442e+04  26102.777344  57951.115234   \n",
       "Low     17492.0  7.382119e+04  2.603935e+04  26011.468750  57517.906250   \n",
       "Open    17492.0  7.403691e+04  2.609704e+04  26059.931641  57714.226562   \n",
       "Volume  17492.0  4.355266e+08  1.127467e+09      0.000000      0.000000   \n",
       "\n",
       "                 50%           75%           max  \n",
       "Close   68160.718750  9.730265e+04  1.238109e+05  \n",
       "High    68365.589844  9.755880e+04  1.243223e+05  \n",
       "Low     67933.402344  9.700106e+04  1.234140e+05  \n",
       "Open    68167.683594  9.729354e+04  1.238693e+05  \n",
       "Volume      0.000000  4.715523e+08  3.461036e+10  "
      ]
     },
     "execution_count": 16,
     "metadata": {},
     "output_type": "execute_result"
    }
   ],
   "source": [
    "df.describe().T"
   ]
  },
  {
   "cell_type": "code",
   "execution_count": null,
   "id": "7cda9cc6",
   "metadata": {},
   "outputs": [],
   "source": []
  }
 ],
 "metadata": {
  "kernelspec": {
   "display_name": ".venv",
   "language": "python",
   "name": "python3"
  },
  "language_info": {
   "codemirror_mode": {
    "name": "ipython",
    "version": 3
   },
   "file_extension": ".py",
   "mimetype": "text/x-python",
   "name": "python",
   "nbconvert_exporter": "python",
   "pygments_lexer": "ipython3",
   "version": "3.12.3"
  }
 },
 "nbformat": 4,
 "nbformat_minor": 5
}
